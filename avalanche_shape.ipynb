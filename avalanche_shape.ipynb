import pandas as pd
import matplotlib.pyplot as plt

# Assuming 'data.txt' is your data file
filename = "20avl_size.txt"

# Read data from the text file
data = pd.read_csv(filename, sep=" ", names=["avl_size", "distribution"])
plt.xscale("log")
plt.yscale("log")
plt.scatter(data['avl_size'], data['distribution'])
# Define the number of bins for log binning (adjust as needed)
num_bins = 16

# Log binning for 'avl_size'
avl_size_min = data['avl_size'].min()
avl_size_max = data['avl_size'].max()
avl_size_bins = np.logspace(np.log10(avl_size_min), np.log10(avl_size_max), num=num_bins)
data['avl_size_bin'] = np.digitize(data['avl_size'], avl_size_bins)

# Log binning for 'distribution' (uncomment if needed)
# distribution_min = data['distribution'].min()
# distribution_max = data['distribution'].max()
# distribution_bins = np.logspace(np.log10(distribution_min), np.log10(distribution_max), num=num_bins)
# data['distribution_bin'] = np.digitize(data['distribution'], distribution_bins)

# Group by 'avl_size_bin' and calculate statistics
binned_data = data.groupby('avl_size_bin').agg({
  'avl_size': 'mean',
  'distribution': 'mean'  # You can add other aggregation functions here
}).reset_index()

# Prepare data for plotting (assuming you want to plot mean avl_size vs mean distribution)
x = binned_data['avl_size']
y = binned_data['distribution']
binned_data[[ 'avl_size', 'distribution']].to_csv("20avl_size_binned.txt", index=False, sep=" ")

print(binned_data)
# Create a scatter plot
plt.figure(figsize=(8, 6))
plt.xscale("log")
plt.yscale("log")
plt.scatter(x, y)

# Set labels and title
plt.xlabel('Average avl_size')
plt.ylabel('Average distribution')
plt.title('Binned Data - Average avl_size vs. Average Distribution')

# Enable grid lines
plt.grid(True)

# Display the plot
plt.show()
